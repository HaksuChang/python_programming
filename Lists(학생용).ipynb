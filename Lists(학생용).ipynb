{
  "nbformat": 4,
  "nbformat_minor": 0,
  "metadata": {
    "kernelspec": {
      "display_name": "Python 3",
      "language": "python",
      "name": "python3"
    },
    "language_info": {
      "codemirror_mode": {
        "name": "ipython",
        "version": 3
      },
      "file_extension": ".py",
      "mimetype": "text/x-python",
      "name": "python",
      "nbconvert_exporter": "python",
      "pygments_lexer": "ipython3",
      "version": "3.6.8"
    },
    "colab": {
      "provenance": [],
      "include_colab_link": true
    }
  },
  "cells": [
    {
      "cell_type": "markdown",
      "metadata": {
        "id": "view-in-github",
        "colab_type": "text"
      },
      "source": [
        "<a href=\"https://colab.research.google.com/github/HaksuChang/python_programming/blob/main/Lists(%ED%95%99%EC%83%9D%EC%9A%A9).ipynb\" target=\"_parent\"><img src=\"https://colab.research.google.com/assets/colab-badge.svg\" alt=\"Open In Colab\"/></a>"
      ]
    },
    {
      "cell_type": "markdown",
      "metadata": {
        "id": "-kmv3hPY6OQp"
      },
      "source": [
        "<h1>Lists in Python</h1>"
      ]
    },
    {
      "cell_type": "markdown",
      "metadata": {
        "id": "uLa0yHwr6ORu"
      },
      "source": [
        "<h2 id=\"quiz\">Quiz on List</h2>"
      ]
    },
    {
      "cell_type": "markdown",
      "metadata": {
        "id": "e4L88mTA6ORv"
      },
      "source": [
        "Create a list <code>a_list</code>, with the following elements <code>1</code>, <code>hello</code>, <code>[1,2,3]</code> and <code>True</code>."
      ]
    },
    {
      "cell_type": "code",
      "metadata": {
        "id": "HAN8rxnH6ORv",
        "colab": {
          "base_uri": "https://localhost:8080/"
        },
        "outputId": "093c485b-0cae-4f8c-8853-b816d7e8ae1e"
      },
      "source": [
        "a_list = [1, 'hello', [1,2,3] ,True]\n",
        "a_list"
      ],
      "execution_count": null,
      "outputs": [
        {
          "output_type": "execute_result",
          "data": {
            "text/plain": [
              "[1, 'hello', [1, 2, 3], True]"
            ]
          },
          "metadata": {},
          "execution_count": 34
        }
      ]
    },
    {
      "cell_type": "markdown",
      "metadata": {
        "id": "N-2_BadY6ORx"
      },
      "source": [
        "Find the value stored at index 1 of <code>a_list</code>."
      ]
    },
    {
      "cell_type": "code",
      "metadata": {
        "id": "tI_r_x-i6ORy",
        "colab": {
          "base_uri": "https://localhost:8080/",
          "height": 35
        },
        "outputId": "90ce8c7f-865a-4456-fa15-b99f00d002e1"
      },
      "source": [
        "a_list[1]"
      ],
      "execution_count": null,
      "outputs": [
        {
          "output_type": "execute_result",
          "data": {
            "text/plain": [
              "'hello'"
            ],
            "application/vnd.google.colaboratory.intrinsic+json": {
              "type": "string"
            }
          },
          "metadata": {},
          "execution_count": 37
        }
      ]
    },
    {
      "cell_type": "markdown",
      "metadata": {
        "id": "vQ5NA_5S6OR1"
      },
      "source": [
        "Retrieve the elements stored at index 1, 2 and 3 of <code>a_list</code>."
      ]
    },
    {
      "cell_type": "code",
      "metadata": {
        "id": "ebEasRQV6OR1",
        "colab": {
          "base_uri": "https://localhost:8080/"
        },
        "outputId": "cd0f2f1d-3e58-4269-decb-87692e2ba18c"
      },
      "source": [
        "a_list[1:4]"
      ],
      "execution_count": null,
      "outputs": [
        {
          "output_type": "execute_result",
          "data": {
            "text/plain": [
              "['hello', [1, 2, 3], True]"
            ]
          },
          "metadata": {},
          "execution_count": 41
        }
      ]
    },
    {
      "cell_type": "markdown",
      "metadata": {
        "id": "njpuGgCg6OR4"
      },
      "source": [
        "Concatenate the following lists <code>A = [1, 'a']</code> and <code>B = [2, 1, 'd']</code>:"
      ]
    },
    {
      "cell_type": "code",
      "metadata": {
        "id": "zCcOoqos6OR4",
        "colab": {
          "base_uri": "https://localhost:8080/"
        },
        "outputId": "3d85b901-bf95-4b55-b153-d4df51f92ba7"
      },
      "source": [
        "A = [1, 'a']\n",
        "B = [2, 1, 'd']\n",
        "A+B"
      ],
      "execution_count": null,
      "outputs": [
        {
          "output_type": "execute_result",
          "data": {
            "text/plain": [
              "[1, 'a', 2, 1, 'd']"
            ]
          },
          "metadata": {},
          "execution_count": 47
        }
      ]
    }
  ]
}