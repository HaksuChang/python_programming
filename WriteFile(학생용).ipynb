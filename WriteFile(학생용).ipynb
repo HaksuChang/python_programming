{
  "nbformat": 4,
  "nbformat_minor": 0,
  "metadata": {
    "kernelspec": {
      "display_name": "Python 3",
      "language": "python",
      "name": "python3"
    },
    "language_info": {
      "codemirror_mode": {
        "name": "ipython",
        "version": 3
      },
      "file_extension": ".py",
      "mimetype": "text/x-python",
      "name": "python",
      "nbconvert_exporter": "python",
      "pygments_lexer": "ipython3",
      "version": "3.6.6"
    },
    "colab": {
      "provenance": [],
      "include_colab_link": true
    }
  },
  "cells": [
    {
      "cell_type": "markdown",
      "metadata": {
        "id": "view-in-github",
        "colab_type": "text"
      },
      "source": [
        "<a href=\"https://colab.research.google.com/github/HaksuChang/python_programming/blob/main/WriteFile(%ED%95%99%EC%83%9D%EC%9A%A9).ipynb\" target=\"_parent\"><img src=\"https://colab.research.google.com/assets/colab-badge.svg\" alt=\"Open In Colab\"/></a>"
      ]
    },
    {
      "cell_type": "markdown",
      "metadata": {
        "id": "42MVnk4tbl2I"
      },
      "source": [
        "<h1>Write and Save Files in Python</h1>"
      ]
    },
    {
      "cell_type": "code",
      "metadata": {
        "id": "aYKRvAC-bxwU",
        "colab": {
          "base_uri": "https://localhost:8080/"
        },
        "outputId": "6c348bbc-c804-4777-8928-ae6a1783e104"
      },
      "source": [
        "from google.colab import drive\n",
        "drive.mount('/content/gdrive')"
      ],
      "execution_count": 1,
      "outputs": [
        {
          "output_type": "stream",
          "name": "stdout",
          "text": [
            "Mounted at /content/gdrive\n"
          ]
        }
      ]
    },
    {
      "cell_type": "code",
      "metadata": {
        "id": "vZSTGB0Nbl2L"
      },
      "source": [
        "# Write line to file\n",
        "\n",
        "with open('/content/gdrive/My Drive/Colab Notebooks/example2.txt', 'w') as writefile:\n",
        "    writefile.write(\"This is line A\")"
      ],
      "execution_count": 4,
      "outputs": []
    },
    {
      "cell_type": "markdown",
      "metadata": {
        "id": "B7ywmRYCbl2O"
      },
      "source": [
        " We can read the file to see if it worked:"
      ]
    },
    {
      "cell_type": "code",
      "metadata": {
        "id": "9rKLqRV4bl2P",
        "colab": {
          "base_uri": "https://localhost:8080/"
        },
        "outputId": "25eb1f96-a62c-4d06-ddd1-2b6acdc3d677"
      },
      "source": [
        "# Read file\n",
        "\n",
        "with open('/content/gdrive/My Drive/Colab Notebooks/example2.txt', 'r') as testwritefile:\n",
        "    print(testwritefile.read())"
      ],
      "execution_count": 3,
      "outputs": [
        {
          "output_type": "stream",
          "name": "stdout",
          "text": [
            "This is line A\n"
          ]
        }
      ]
    },
    {
      "cell_type": "markdown",
      "metadata": {
        "id": "1ECLFfrubl2R"
      },
      "source": [
        "We can write multiple lines:"
      ]
    },
    {
      "cell_type": "code",
      "metadata": {
        "id": "FJgIdzzIbl2S"
      },
      "source": [
        "# Write lines to file\n",
        "\n",
        "with open('/content/gdrive/My Drive/Colab Notebooks/example3.txt', 'w') as writefile:\n",
        "    writefile.write(\"This is line A\\n\")\n",
        "    writefile.write(\"This is line B\\n\")\n",
        "    writefile.write(\"This is line 10\\n\")"
      ],
      "execution_count": 6,
      "outputs": []
    },
    {
      "cell_type": "markdown",
      "metadata": {
        "id": "LvJAu2n8bl2V"
      },
      "source": [
        "You can check the file to see if your results are correct"
      ]
    },
    {
      "cell_type": "code",
      "metadata": {
        "id": "EQBM_Ynabl2W",
        "colab": {
          "base_uri": "https://localhost:8080/"
        },
        "outputId": "fe182387-3bca-41f6-db9f-cf988b118564"
      },
      "source": [
        "# Check whether write to file\n",
        "\n",
        "with open('/content/gdrive/My Drive/Colab Notebooks/example2.txt', 'r') as testwritefile:\n",
        "    print(testwritefile.read())"
      ],
      "execution_count": 7,
      "outputs": [
        {
          "output_type": "stream",
          "name": "stdout",
          "text": [
            "This is line A\n"
          ]
        }
      ]
    },
    {
      "cell_type": "markdown",
      "metadata": {
        "id": "2JpmxZ8lbl2Y"
      },
      "source": [
        " By setting the mode argument to append **a**  you can append a new line as follows:"
      ]
    },
    {
      "cell_type": "code",
      "metadata": {
        "id": "lO4FG7G0bl2Z"
      },
      "source": [
        "# Write a new line to text file\n",
        "\n",
        "with open('/content/gdrive/My Drive/Colab Notebooks/example2.txt', 'a') as testwritefile:\n",
        "    testwritefile.write(\"This is line C\\n\")"
      ],
      "execution_count": 9,
      "outputs": []
    },
    {
      "cell_type": "markdown",
      "metadata": {
        "id": "KXsBtnp6bl2c"
      },
      "source": [
        " You can verify the file has changed by running the following cell:"
      ]
    },
    {
      "cell_type": "code",
      "metadata": {
        "id": "QR21o9UVbl2c",
        "colab": {
          "base_uri": "https://localhost:8080/"
        },
        "outputId": "a5e3fc8e-a4ca-4a59-d39a-a7861174080f"
      },
      "source": [
        "# Verify if the new line is in the text file\n",
        "\n",
        "with open('/content/gdrive/My Drive/Colab Notebooks/example2.txt', 'r') as testwritefile:\n",
        "    print(testwritefile.read())"
      ],
      "execution_count": 11,
      "outputs": [
        {
          "output_type": "stream",
          "name": "stdout",
          "text": [
            "This is line AThis is line C\n",
            "This is line C\n",
            "\n"
          ]
        }
      ]
    },
    {
      "cell_type": "markdown",
      "metadata": {
        "id": "LLbnpgkabl2f"
      },
      "source": [
        " We write a list to a <b>.txt</b> file  as follows:"
      ]
    },
    {
      "cell_type": "code",
      "metadata": {
        "id": "0DSXx_v1bl2f",
        "colab": {
          "base_uri": "https://localhost:8080/"
        },
        "outputId": "f1643a5b-840c-4e03-c52b-ea4d38e95ec0"
      },
      "source": [
        "# Sample list of text\n",
        "\n",
        "Lines = [\"This is line A\\n\", \"This is line B\\n\", \"This is line C\\n\"]\n",
        "Lines"
      ],
      "execution_count": 12,
      "outputs": [
        {
          "output_type": "execute_result",
          "data": {
            "text/plain": [
              "['This is line A\\n', 'This is line B\\n', 'This is line C\\n']"
            ]
          },
          "metadata": {},
          "execution_count": 12
        }
      ]
    },
    {
      "cell_type": "code",
      "metadata": {
        "id": "DB55tALYbl2h",
        "colab": {
          "base_uri": "https://localhost:8080/"
        },
        "outputId": "59b32e23-822c-4c52-a0ae-aa31795706b6"
      },
      "source": [
        "# Write the strings in the list to text file\n",
        "\n",
        "with open('/content/gdrive/My Drive/Colab Notebooks/example11.txt', 'w') as writefile:\n",
        "    for line in Lines:\n",
        "        print(line)\n",
        "        writefile.write(line)"
      ],
      "execution_count": 13,
      "outputs": [
        {
          "output_type": "stream",
          "name": "stdout",
          "text": [
            "This is line A\n",
            "\n",
            "This is line B\n",
            "\n",
            "This is line C\n",
            "\n"
          ]
        }
      ]
    },
    {
      "cell_type": "markdown",
      "metadata": {
        "id": "gDSC2r5Gbl2l"
      },
      "source": [
        " We can verify the file is written by reading it and printing out the values:  "
      ]
    },
    {
      "cell_type": "code",
      "metadata": {
        "id": "VkvMQbG0bl2l",
        "colab": {
          "base_uri": "https://localhost:8080/"
        },
        "outputId": "bb1cbcc6-2840-4805-cdec-0e3a465db47a"
      },
      "source": [
        "# Verify if writing to file is successfully executed\n",
        "\n",
        "with open('/content/gdrive/My Drive/Colab Notebooks/example11.txt', 'r') as testwritefile:\n",
        "    print(testwritefile.read())"
      ],
      "execution_count": 14,
      "outputs": [
        {
          "output_type": "stream",
          "name": "stdout",
          "text": [
            "This is line A\n",
            "This is line B\n",
            "This is line C\n",
            "\n"
          ]
        }
      ]
    },
    {
      "cell_type": "markdown",
      "metadata": {
        "id": "bHBZWeAmbl2n"
      },
      "source": [
        "We can again append to the file by changing the second parameter to <b>a</b>. This adds the code:"
      ]
    },
    {
      "cell_type": "code",
      "metadata": {
        "id": "pckArKDibl2o"
      },
      "source": [
        "# Append the line to the file\n",
        "\n",
        "with open('/content/gdrive/My Drive/Colab Notebooks/example11.txt', 'a') as testwritefile:\n",
        "    testwritefile.write(\"This is line D\\n\")"
      ],
      "execution_count": 15,
      "outputs": []
    },
    {
      "cell_type": "markdown",
      "metadata": {
        "id": "d3Z87L3jbl2q"
      },
      "source": [
        "We can see the results of appending the file:"
      ]
    },
    {
      "cell_type": "code",
      "metadata": {
        "id": "tijFPWqHbl2q"
      },
      "source": [
        "# Verify if the appending is successfully executed\n",
        "\n",
        "with open('/content/gdrive/My Drive/Colab Notebooks/example3.txt', 'r') as testwritefile:\n",
        "    print(testwritefile.read())"
      ],
      "execution_count": null,
      "outputs": []
    },
    {
      "cell_type": "markdown",
      "metadata": {
        "id": "WGeY8VuZbl2s"
      },
      "source": [
        "<hr>"
      ]
    },
    {
      "cell_type": "markdown",
      "metadata": {
        "id": "5mndIszabl2s"
      },
      "source": [
        "<h2 id=\"copy\">Copy a File</h2>"
      ]
    },
    {
      "cell_type": "markdown",
      "metadata": {
        "id": "JOISv-n8bl2t"
      },
      "source": [
        "Let's copy the file <b>Example11.txt</b> to the file <b>Example12.txt</b>:"
      ]
    },
    {
      "cell_type": "code",
      "metadata": {
        "id": "lxgmlnnMbl2t"
      },
      "source": [
        "# Copy file to another\n",
        "\n",
        "with open('/content/gdrive/My Drive/Colab Notebooks/example11.txt','r') as readfile:\n",
        "    with open('/content/gdrive/My Drive/Colab Notebooks/example12.txt','w') as writefile:\n",
        "          for line in readfile:\n",
        "                writefile.write(line)"
      ],
      "execution_count": 17,
      "outputs": []
    },
    {
      "cell_type": "markdown",
      "metadata": {
        "id": "xPLruqWRbl2x"
      },
      "source": [
        "We can read the file to see if everything works:"
      ]
    },
    {
      "cell_type": "code",
      "metadata": {
        "id": "HIVsEvjbbl2x",
        "colab": {
          "base_uri": "https://localhost:8080/"
        },
        "outputId": "93a8d03d-31c7-467f-fdbf-e2ddc7d9f3cb"
      },
      "source": [
        "# Verify if the copy is successfully executed\n",
        "\n",
        "with open('/content/gdrive/My Drive/Colab Notebooks/example12.txt','r') as testwritefile:\n",
        "    print(testwritefile.read())"
      ],
      "execution_count": 18,
      "outputs": [
        {
          "output_type": "stream",
          "name": "stdout",
          "text": [
            "This is line A\n",
            "This is line B\n",
            "This is line C\n",
            "This is line D\n",
            "\n"
          ]
        }
      ]
    },
    {
      "cell_type": "code",
      "source": [
        "\n",
        "with open('/content/gdrive/My Drive/Colab Notebooks/example12.txt','r') as testwritefile:\n",
        "    print(testwritefile.read())"
      ],
      "metadata": {
        "colab": {
          "base_uri": "https://localhost:8080/"
        },
        "id": "PPAmTuuw8925",
        "outputId": "c53c1e58-7de7-4eb6-b9ba-c4c3852381c2"
      },
      "execution_count": 19,
      "outputs": [
        {
          "output_type": "stream",
          "name": "stdout",
          "text": [
            "This is line A\n",
            "This is line B\n",
            "This is line C\n",
            "This is line D\n",
            "\n"
          ]
        }
      ]
    },
    {
      "cell_type": "markdown",
      "metadata": {
        "id": "GdHtaqELbl23"
      },
      "source": [
        "<hr>"
      ]
    }
  ]
}