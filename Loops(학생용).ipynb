{
  "nbformat": 4,
  "nbformat_minor": 0,
  "metadata": {
    "kernelspec": {
      "display_name": "Python 3",
      "language": "python",
      "name": "python3"
    },
    "language_info": {
      "codemirror_mode": {
        "name": "ipython",
        "version": 3
      },
      "file_extension": ".py",
      "mimetype": "text/x-python",
      "name": "python",
      "nbconvert_exporter": "python",
      "pygments_lexer": "ipython3",
      "version": "3.6.8"
    },
    "colab": {
      "provenance": [],
      "include_colab_link": true
    }
  },
  "cells": [
    {
      "cell_type": "markdown",
      "metadata": {
        "id": "view-in-github",
        "colab_type": "text"
      },
      "source": [
        "<a href=\"https://colab.research.google.com/github/HaksuChang/python_programming/blob/main/Loops(%ED%95%99%EC%83%9D%EC%9A%A9).ipynb\" target=\"_parent\"><img src=\"https://colab.research.google.com/assets/colab-badge.svg\" alt=\"Open In Colab\"/></a>"
      ]
    },
    {
      "cell_type": "markdown",
      "metadata": {
        "id": "veuE7B07Lavt"
      },
      "source": [
        "<h1>Loops in Python (반복문) </h1>"
      ]
    },
    {
      "cell_type": "markdown",
      "metadata": {
        "id": "yxfGHiYiLawP"
      },
      "source": [
        "<h2 id=\"quiz\">Quiz on Loops</h2>"
      ]
    },
    {
      "cell_type": "markdown",
      "metadata": {
        "id": "ZHGYe8j5LawQ"
      },
      "source": [
        "Write a <code>for</code> loop the prints out all the element between <b>-5</b> and <b>5</b> using the range function."
      ]
    },
    {
      "cell_type": "code",
      "metadata": {
        "id": "QIXNfubLLawQ",
        "colab": {
          "base_uri": "https://localhost:8080/"
        },
        "outputId": "dfb4574d-1a69-4d6f-aa3e-e4c8f874a6da"
      },
      "source": [
        "for i in range(-5, 6):\n",
        "    print(i)"
      ],
      "execution_count": 13,
      "outputs": [
        {
          "output_type": "stream",
          "name": "stdout",
          "text": [
            "-5\n",
            "-4\n",
            "-3\n",
            "-2\n",
            "-1\n",
            "0\n",
            "1\n",
            "2\n",
            "3\n",
            "4\n",
            "5\n"
          ]
        }
      ]
    },
    {
      "cell_type": "markdown",
      "metadata": {
        "id": "lgt-lOBcLawT"
      },
      "source": [
        "Print the elements of the following list:\n",
        "<code>Genres=[ 'rock', 'R&B', 'Soundtrack', 'R&B', 'soul', 'pop']</code>\n",
        "Make sure you follow Python conventions."
      ]
    },
    {
      "cell_type": "code",
      "metadata": {
        "id": "y1P9DewULawT",
        "colab": {
          "base_uri": "https://localhost:8080/"
        },
        "outputId": "d3628d92-9902-42d5-9891-f380a6533261"
      },
      "source": [
        "Genres = ['rock', 'R&B', 'Soundtrack', 'R&B', 'soul', 'pop']\n",
        "for Genre in Genres:\n",
        "    print(Genre)"
      ],
      "execution_count": 17,
      "outputs": [
        {
          "output_type": "stream",
          "name": "stdout",
          "text": [
            "rock\n",
            "R&B\n",
            "Soundtrack\n",
            "R&B\n",
            "soul\n",
            "pop\n"
          ]
        }
      ]
    },
    {
      "cell_type": "markdown",
      "metadata": {
        "id": "R8_dlBvrLawW"
      },
      "source": [
        "<hr>"
      ]
    },
    {
      "cell_type": "markdown",
      "metadata": {
        "id": "VUot42j7LawW"
      },
      "source": [
        "Write a for loop that prints out the following list: <code>squares=['red', 'yellow', 'green', 'purple', 'blue']</code>"
      ]
    },
    {
      "cell_type": "code",
      "metadata": {
        "id": "E0MCFnuqLawW",
        "colab": {
          "base_uri": "https://localhost:8080/"
        },
        "outputId": "9ed8c388-5361-4d34-8d64-9bcefce440b4"
      },
      "source": [
        "squares=['red', 'yellow', 'green', 'purple', 'blue']\n",
        "for square in squares:\n",
        "    print(square)"
      ],
      "execution_count": 18,
      "outputs": [
        {
          "output_type": "stream",
          "name": "stdout",
          "text": [
            "red\n",
            "yellow\n",
            "green\n",
            "purple\n",
            "blue\n"
          ]
        }
      ]
    },
    {
      "cell_type": "markdown",
      "metadata": {
        "id": "9Yg-AQRxLawa"
      },
      "source": [
        "<hr>"
      ]
    },
    {
      "cell_type": "markdown",
      "metadata": {
        "id": "hnPtqt7_Lawa"
      },
      "source": [
        "Write a while loop to display the values of the Rating of an album playlist stored in the list <code>PlayListRatings</code>. If the score is less than 6, exit the loop. The list <code>PlayListRatings</code> is given by: <code>PlayListRatings = [10, 9.5, 10, 8, 7.5, 5, 10, 10]</code>"
      ]
    },
    {
      "cell_type": "code",
      "metadata": {
        "id": "5Kw0DO-ALawa",
        "colab": {
          "base_uri": "https://localhost:8080/"
        },
        "outputId": "214562a9-2b05-49ab-f9af-752b702fb021"
      },
      "source": [
        "PlayListRatings = [10, 9.5, 10, 8, 7.5, 5, 10, 10]\n",
        "i = 1\n",
        "Rating = PlayListRatings[0]\n",
        "while(Rating >= 6):\n",
        "    print(Rating)\n",
        "    Rating = PlayListRatings[i]\n",
        "    i = i + 1"
      ],
      "execution_count": 19,
      "outputs": [
        {
          "output_type": "stream",
          "name": "stdout",
          "text": [
            "10\n",
            "9.5\n",
            "10\n",
            "8\n",
            "7.5\n"
          ]
        }
      ]
    },
    {
      "cell_type": "markdown",
      "metadata": {
        "id": "v91g8dYeLawd"
      },
      "source": [
        "<hr>"
      ]
    },
    {
      "cell_type": "markdown",
      "metadata": {
        "id": "asUW74l8Lawe"
      },
      "source": [
        "Write a while loop to copy the strings <code>'orange'</code> of the list <code>squares</code> to the list <code>new_squares</code>. Stop and exit the loop if the value on the list is not <code>'orange'</code>:"
      ]
    },
    {
      "cell_type": "code",
      "metadata": {
        "id": "oIB8hw4mLawf",
        "colab": {
          "base_uri": "https://localhost:8080/"
        },
        "outputId": "4770b2a0-6196-449c-ec82-455f12fe2531"
      },
      "source": [
        "squares = ['orange', 'orange', 'purple', 'blue ', 'orange']\n",
        "new_squares = []\n",
        "i = 0\n",
        "while(squares[i] == 'orange'):\n",
        "    new_squares.append(squares[i])\n",
        "    i = i + 1\n",
        "print (new_squares)"
      ],
      "execution_count": 20,
      "outputs": [
        {
          "output_type": "stream",
          "name": "stdout",
          "text": [
            "['orange', 'orange']\n"
          ]
        }
      ]
    },
    {
      "cell_type": "markdown",
      "metadata": {
        "id": "9ESytxxcLawi"
      },
      "source": [
        "<hr>"
      ]
    }
  ]
}