{
  "nbformat": 4,
  "nbformat_minor": 0,
  "metadata": {
    "kernelspec": {
      "display_name": "Python 3",
      "language": "python",
      "name": "python3"
    },
    "language_info": {
      "codemirror_mode": {
        "name": "ipython",
        "version": 3
      },
      "file_extension": ".py",
      "mimetype": "text/x-python",
      "name": "python",
      "nbconvert_exporter": "python",
      "pygments_lexer": "ipython3",
      "version": "3.6.6"
    },
    "colab": {
      "provenance": [],
      "include_colab_link": true
    }
  },
  "cells": [
    {
      "cell_type": "markdown",
      "metadata": {
        "id": "view-in-github",
        "colab_type": "text"
      },
      "source": [
        "<a href=\"https://colab.research.google.com/github/HaksuChang/python_programming/blob/main/ReadFile(%ED%95%99%EC%83%9D%EC%9A%A9).ipynb\" target=\"_parent\"><img src=\"https://colab.research.google.com/assets/colab-badge.svg\" alt=\"Open In Colab\"/></a>"
      ]
    },
    {
      "cell_type": "markdown",
      "metadata": {
        "id": "F9LAKEWcYI0G"
      },
      "source": [
        "<h1>Reading Files Python</h1>"
      ]
    },
    {
      "cell_type": "markdown",
      "metadata": {
        "id": "xKoDVcw9YI0I"
      },
      "source": [
        "<h2 id=\"download\">Download Data</h2>"
      ]
    },
    {
      "cell_type": "code",
      "metadata": {
        "id": "-m4pzMiqYNvn",
        "colab": {
          "base_uri": "https://localhost:8080/"
        },
        "outputId": "782af4a3-648c-45f1-936a-1f0efe5ef4b4"
      },
      "source": [
        "from google.colab import drive\n",
        "drive.mount('/content/gdrive')"
      ],
      "execution_count": 13,
      "outputs": [
        {
          "output_type": "stream",
          "name": "stdout",
          "text": [
            "Mounted at /content/gdrive\n"
          ]
        }
      ]
    },
    {
      "cell_type": "markdown",
      "metadata": {
        "id": "GEfUdrpsYI0M"
      },
      "source": [
        "<hr>"
      ]
    },
    {
      "cell_type": "markdown",
      "metadata": {
        "id": "iOB-Ok1UYI0Q"
      },
      "source": [
        " We read the file:"
      ]
    },
    {
      "cell_type": "code",
      "metadata": {
        "id": "W7vJLvx4YI0R"
      },
      "source": [
        "# Read the Example1.txt\n",
        "\n",
        "example1 = \"/content/gdrive/My Drive/Colab Notebooks/example1.txt\"\n",
        "file1 = open(example1, \"r\") #\"r\"는 example1 객체를 읽을 수 있는 상태로 만들자."
      ],
      "execution_count": 16,
      "outputs": []
    },
    {
      "cell_type": "code",
      "metadata": {
        "id": "bBsi2y2YYI0U",
        "colab": {
          "base_uri": "https://localhost:8080/",
          "height": 35
        },
        "outputId": "9977857d-7130-428c-ae68-7562ba348d0f"
      },
      "source": [
        "# Print the path of file\n",
        "\n",
        "file1.name"
      ],
      "execution_count": 18,
      "outputs": [
        {
          "output_type": "execute_result",
          "data": {
            "text/plain": [
              "'/content/gdrive/My Drive/Colab Notebooks/example1.txt'"
            ],
            "application/vnd.google.colaboratory.intrinsic+json": {
              "type": "string"
            }
          },
          "metadata": {},
          "execution_count": 18
        }
      ]
    },
    {
      "cell_type": "markdown",
      "metadata": {
        "id": "doJ6gXKtYI0X"
      },
      "source": [
        " The mode the file object is in:"
      ]
    },
    {
      "cell_type": "code",
      "metadata": {
        "id": "e1aO2Qp-YI0X",
        "colab": {
          "base_uri": "https://localhost:8080/",
          "height": 35
        },
        "outputId": "27f5b3e4-8ca1-40ec-8342-703b5b49fa42"
      },
      "source": [
        "# Print the mode of file, either 'r' or 'w'\n",
        "\n",
        "file1.mode"
      ],
      "execution_count": 19,
      "outputs": [
        {
          "output_type": "execute_result",
          "data": {
            "text/plain": [
              "'r'"
            ],
            "application/vnd.google.colaboratory.intrinsic+json": {
              "type": "string"
            }
          },
          "metadata": {},
          "execution_count": 19
        }
      ]
    },
    {
      "cell_type": "markdown",
      "metadata": {
        "id": "ZrkUUyKPYI0a"
      },
      "source": [
        "We can read the file and assign it to a variable :"
      ]
    },
    {
      "cell_type": "code",
      "metadata": {
        "id": "S_DjlFFcYI0b",
        "colab": {
          "base_uri": "https://localhost:8080/",
          "height": 35
        },
        "outputId": "6c13d552-8395-45f4-e7dd-8d8c4f68b548"
      },
      "source": [
        "# Read the file\n",
        "\n",
        "FileContent = file1.read()\n",
        "FileContent"
      ],
      "execution_count": 20,
      "outputs": [
        {
          "output_type": "execute_result",
          "data": {
            "text/plain": [
              "'연습'"
            ],
            "application/vnd.google.colaboratory.intrinsic+json": {
              "type": "string"
            }
          },
          "metadata": {},
          "execution_count": 20
        }
      ]
    },
    {
      "cell_type": "code",
      "metadata": {
        "id": "H7ttKTIhYI0e",
        "colab": {
          "base_uri": "https://localhost:8080/"
        },
        "outputId": "fab63779-62e4-4bf9-ecd9-e7d515c1a231"
      },
      "source": [
        "# Print the file with '\\n' as a new line\n",
        "\n",
        "print(FileContent)"
      ],
      "execution_count": 21,
      "outputs": [
        {
          "output_type": "stream",
          "name": "stdout",
          "text": [
            "연습\n"
          ]
        }
      ]
    },
    {
      "cell_type": "markdown",
      "metadata": {
        "id": "atbm4EMuYI0h"
      },
      "source": [
        "The file is of type string:"
      ]
    },
    {
      "cell_type": "code",
      "metadata": {
        "id": "JqhDnmIxYI0h",
        "colab": {
          "base_uri": "https://localhost:8080/"
        },
        "outputId": "051f274b-70d3-4963-d8d2-a5dbf2e9c6d1"
      },
      "source": [
        "# Type of file content\n",
        "\n",
        "type(FileContent)"
      ],
      "execution_count": 22,
      "outputs": [
        {
          "output_type": "execute_result",
          "data": {
            "text/plain": [
              "str"
            ]
          },
          "metadata": {},
          "execution_count": 22
        }
      ]
    },
    {
      "cell_type": "markdown",
      "metadata": {
        "id": "GH29ckC2YI0k"
      },
      "source": [
        " We must close the file object:"
      ]
    },
    {
      "cell_type": "code",
      "metadata": {
        "id": "_bJAhDCnYI0l"
      },
      "source": [
        "# Close file after finish\n",
        "\n",
        "file1.close()"
      ],
      "execution_count": 23,
      "outputs": []
    },
    {
      "cell_type": "markdown",
      "metadata": {
        "id": "tZv9r5FoYI0n"
      },
      "source": [
        "<hr>"
      ]
    },
    {
      "cell_type": "code",
      "metadata": {
        "id": "C51ZuarpYI0p",
        "colab": {
          "base_uri": "https://localhost:8080/"
        },
        "outputId": "b9ba2a00-091f-4ac9-fe15-ac81addce7bf"
      },
      "source": [
        "# Open file using with\n",
        "\n",
        "with open(example1, \"r\") as file1:\n",
        "    FileContent = file1.read()\n",
        "    print(FileContent)"
      ],
      "execution_count": 24,
      "outputs": [
        {
          "output_type": "stream",
          "name": "stdout",
          "text": [
            "연습\n"
          ]
        }
      ]
    },
    {
      "cell_type": "code",
      "metadata": {
        "id": "JemmW1YvYI0r",
        "colab": {
          "base_uri": "https://localhost:8080/"
        },
        "outputId": "5d45cc7f-a863-4701-914e-400b9981bdd6"
      },
      "source": [
        "# Verify if the file is closed\n",
        "\n",
        "file1.closed"
      ],
      "execution_count": 25,
      "outputs": [
        {
          "output_type": "execute_result",
          "data": {
            "text/plain": [
              "True"
            ]
          },
          "metadata": {},
          "execution_count": 25
        }
      ]
    },
    {
      "cell_type": "markdown",
      "metadata": {
        "id": "itgNZE4DYI0t"
      },
      "source": [
        " We can see the info in the file:"
      ]
    },
    {
      "cell_type": "code",
      "metadata": {
        "id": "0ohNCnLxYI0v",
        "colab": {
          "base_uri": "https://localhost:8080/"
        },
        "outputId": "94ba8088-f271-4746-aaa7-2f3179762a35"
      },
      "source": [
        "# See the content of file\n",
        "\n",
        "print(FileContent)"
      ],
      "execution_count": 26,
      "outputs": [
        {
          "output_type": "stream",
          "name": "stdout",
          "text": [
            "연습\n"
          ]
        }
      ]
    },
    {
      "cell_type": "markdown",
      "metadata": {
        "id": "YPga3c5MYI0y"
      },
      "source": [
        "We don’t have to read the entire file, for example, we can read the first 4 characters by entering three as a parameter to the method **.read()**:\n"
      ]
    },
    {
      "cell_type": "code",
      "metadata": {
        "id": "ezc4FOeOYI0z",
        "colab": {
          "base_uri": "https://localhost:8080/"
        },
        "outputId": "3a1a0c5e-09d2-4d9d-d2c9-2d9d69572ee5"
      },
      "source": [
        "# Read first four characters\n",
        "\n",
        "with open(example1, \"r\") as file1:\n",
        "    print(file1.read(4))"
      ],
      "execution_count": 27,
      "outputs": [
        {
          "output_type": "stream",
          "name": "stdout",
          "text": [
            "연습\n"
          ]
        }
      ]
    },
    {
      "cell_type": "code",
      "metadata": {
        "id": "WVpo44aPYI02",
        "colab": {
          "base_uri": "https://localhost:8080/"
        },
        "outputId": "c7658b09-947f-4a1b-80a1-2c487a1a3992"
      },
      "source": [
        "# Read certain amount of characters\n",
        "\n",
        "with open(example1, \"r\") as file1:\n",
        "    print(file1.read(4))\n",
        "    print(file1.read(4))\n",
        "    print(file1.read(7))\n",
        "    print(file1.read(15))"
      ],
      "execution_count": 28,
      "outputs": [
        {
          "output_type": "stream",
          "name": "stdout",
          "text": [
            "연습\n",
            "\n",
            "\n",
            "\n"
          ]
        }
      ]
    },
    {
      "cell_type": "code",
      "metadata": {
        "id": "-PHG33WRYI05",
        "colab": {
          "base_uri": "https://localhost:8080/"
        },
        "outputId": "ea79de08-6b22-49b6-b5bc-b4604ea53277"
      },
      "source": [
        "# Read certain amount of characters\n",
        "\n",
        "with open(example1, \"r\") as file1:\n",
        "    print(file1.read(16))\n",
        "    print(file1.read(5))\n",
        "    print(file1.read(9))"
      ],
      "execution_count": 29,
      "outputs": [
        {
          "output_type": "stream",
          "name": "stdout",
          "text": [
            "연습\n",
            "\n",
            "\n"
          ]
        }
      ]
    },
    {
      "cell_type": "code",
      "metadata": {
        "id": "6sAU9-cZYI07",
        "colab": {
          "base_uri": "https://localhost:8080/"
        },
        "outputId": "37e7327c-b4d9-4d65-8ea6-bb89aee90d28"
      },
      "source": [
        "# Read one line\n",
        "\n",
        "with open(example1, \"r\") as file1:\n",
        "    print(\"first line: \" + file1.readline())\n",
        "    print(\"second line: \" + file1.readline())\n",
        "    print(\"third line: \" + file1.readline())"
      ],
      "execution_count": 30,
      "outputs": [
        {
          "output_type": "stream",
          "name": "stdout",
          "text": [
            "first line: 연습\n",
            "second line: \n",
            "third line: \n"
          ]
        }
      ]
    },
    {
      "cell_type": "markdown",
      "metadata": {
        "id": "ciZWHvuqYI0-"
      },
      "source": [
        " We can use a loop to iterate through each line:\n"
      ]
    },
    {
      "cell_type": "code",
      "metadata": {
        "id": "icC5CUvgYI0-",
        "colab": {
          "base_uri": "https://localhost:8080/"
        },
        "outputId": "0416ad0c-1de9-48e0-e2a7-640aacc37076"
      },
      "source": [
        "# Iterate through the lines\n",
        "\n",
        "with open(example1,\"r\") as file1:\n",
        "        i = 0;\n",
        "        for line in file1:\n",
        "            print(\"Iteration\", str(i), \": \", line)\n",
        "            i = i + 1;"
      ],
      "execution_count": 31,
      "outputs": [
        {
          "output_type": "stream",
          "name": "stdout",
          "text": [
            "Iteration 0 :  연습\n"
          ]
        }
      ]
    },
    {
      "cell_type": "markdown",
      "metadata": {
        "id": "bCK6A5QcYI1A"
      },
      "source": [
        "We can use the method <code>readlines()</code> to save the text file to a list:"
      ]
    },
    {
      "cell_type": "code",
      "metadata": {
        "id": "5sw7At23YI1A"
      },
      "source": [
        "# Read all lines and save as a list --> 자주 사용함\n",
        "\n",
        "with open(example1, \"r\") as file1:\n",
        "    FileasList = file1.readlines()"
      ],
      "execution_count": 32,
      "outputs": []
    },
    {
      "cell_type": "markdown",
      "metadata": {
        "id": "UiI91YFxYI1D"
      },
      "source": [
        " Each element of the list corresponds to a line of text:"
      ]
    },
    {
      "cell_type": "code",
      "metadata": {
        "id": "06c1c6K0YI1D",
        "colab": {
          "base_uri": "https://localhost:8080/",
          "height": 35
        },
        "outputId": "95f79d12-1d02-4a8e-9163-235f8c43a569"
      },
      "source": [
        "# Print the first line\n",
        "\n",
        "FileasList[0]"
      ],
      "execution_count": null,
      "outputs": [
        {
          "output_type": "execute_result",
          "data": {
            "text/plain": [
              "'This is line 1\\n'"
            ],
            "application/vnd.google.colaboratory.intrinsic+json": {
              "type": "string"
            }
          },
          "metadata": {},
          "execution_count": 21
        }
      ]
    },
    {
      "cell_type": "code",
      "metadata": {
        "id": "0H4Pw_LXYI1G",
        "colab": {
          "base_uri": "https://localhost:8080/",
          "height": 35
        },
        "outputId": "9fc644cc-ae6e-45e2-8bcb-7a38bf9f89aa"
      },
      "source": [
        "# Print the second line\n",
        "\n",
        "FileasList[1]"
      ],
      "execution_count": null,
      "outputs": [
        {
          "output_type": "execute_result",
          "data": {
            "text/plain": [
              "'This is line 2\\n'"
            ],
            "application/vnd.google.colaboratory.intrinsic+json": {
              "type": "string"
            }
          },
          "metadata": {},
          "execution_count": 22
        }
      ]
    },
    {
      "cell_type": "code",
      "metadata": {
        "id": "TxBaR_CuYI1I",
        "colab": {
          "base_uri": "https://localhost:8080/",
          "height": 35
        },
        "outputId": "a4c51b01-4b65-4d35-a4ff-43fb0f479380"
      },
      "source": [
        "# Print the third line\n",
        "\n",
        "FileasList[2]"
      ],
      "execution_count": null,
      "outputs": [
        {
          "output_type": "execute_result",
          "data": {
            "text/plain": [
              "'This is line 3\\n'"
            ],
            "application/vnd.google.colaboratory.intrinsic+json": {
              "type": "string"
            }
          },
          "metadata": {},
          "execution_count": 23
        }
      ]
    },
    {
      "cell_type": "code",
      "source": [
        "FileasList[3]"
      ],
      "metadata": {
        "id": "Hlrlyf2Ln4I_",
        "outputId": "30b8224c-46fc-4a58-e7f6-11b252b9c97e",
        "colab": {
          "base_uri": "https://localhost:8080/",
          "height": 35
        }
      },
      "execution_count": null,
      "outputs": [
        {
          "output_type": "execute_result",
          "data": {
            "text/plain": [
              "'(empty)\\n'"
            ],
            "application/vnd.google.colaboratory.intrinsic+json": {
              "type": "string"
            }
          },
          "metadata": {},
          "execution_count": 24
        }
      ]
    },
    {
      "cell_type": "code",
      "source": [
        "FileasList[4]"
      ],
      "metadata": {
        "id": "NiyuD32Tn66I",
        "outputId": "bc7e0ae7-96f8-446b-b9f3-0309ebe2c652",
        "colab": {
          "base_uri": "https://localhost:8080/",
          "height": 35
        }
      },
      "execution_count": null,
      "outputs": [
        {
          "output_type": "execute_result",
          "data": {
            "text/plain": [
              "'This is line 4\\n'"
            ],
            "application/vnd.google.colaboratory.intrinsic+json": {
              "type": "string"
            }
          },
          "metadata": {},
          "execution_count": 25
        }
      ]
    },
    {
      "cell_type": "markdown",
      "metadata": {
        "id": "HgizhkYtYI1L"
      },
      "source": [
        "<hr>"
      ]
    }
  ]
}