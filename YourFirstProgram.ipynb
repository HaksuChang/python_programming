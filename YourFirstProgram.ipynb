{
  "cells": [
    {
      "cell_type": "markdown",
      "metadata": {
        "id": "view-in-github",
        "colab_type": "text"
      },
      "source": [
        "<a href=\"https://colab.research.google.com/github/HaksuChang/python_programming/blob/main/YourFirstProgram.ipynb\" target=\"_parent\"><img src=\"https://colab.research.google.com/assets/colab-badge.svg\" alt=\"Open In Colab\"/></a>"
      ]
    },
    {
      "cell_type": "markdown",
      "metadata": {
        "id": "nVBcvT5A4YD8"
      },
      "source": [
        "<h3 id=\"exercise\">Exercise 1 (Types): Your First Program</h3>\n",
        "숙제 제출시 반드시 \"Exercise 1 (Types) : Your First Program\"이라는 것과 함께, 자신의 이름과 학번을 꼭 기재하세요 (comment도 좋고, 아니면 파일이름에라도 좋고)"
      ]
    },
    {
      "cell_type": "code",
      "source": [
        "# Try your first Python output\n",
        "\n",
        "print('Hello,World')"
      ],
      "metadata": {
        "colab": {
          "base_uri": "https://localhost:8080/"
        },
        "id": "3ZuFuWXWknr0",
        "outputId": "84730b3c-5738-4427-af18-88b7cf1fdd1a"
      },
      "execution_count": 14,
      "outputs": [
        {
          "output_type": "stream",
          "name": "stdout",
          "text": [
            "Hello,World\n"
          ]
        }
      ]
    },
    {
      "cell_type": "code",
      "source": [
        "# Try your first Python output\n",
        "\n",
        "print('Your First Program')\n",
        "print(\"장학수, 2023138187\")"
      ],
      "metadata": {
        "colab": {
          "base_uri": "https://localhost:8080/"
        },
        "id": "jMYnHwEQVg8E",
        "outputId": "75c7a5ca-84c6-48f6-8a06-91ba7b7f0e4b"
      },
      "execution_count": 12,
      "outputs": [
        {
          "output_type": "stream",
          "name": "stdout",
          "text": [
            "Your First Program\n",
            "장학수, 2023138187\n"
          ]
        }
      ]
    },
    {
      "cell_type": "markdown",
      "metadata": {
        "id": "lgXrlidt4YD9"
      },
      "source": [
        "<p>Now, let's enhance your code with a comment. In the code cell below, print out the phrase: <code>Hello, world!</code> and comment it with the phrase <code>Print the traditional hello world</code> all in one line of code.</p>"
      ]
    },
    {
      "cell_type": "code",
      "execution_count": null,
      "metadata": {
        "id": "jj0A14ts4YD9"
      },
      "outputs": [],
      "source": [
        "# Write your code below and press Shift+Enter to execute"
      ]
    },
    {
      "cell_type": "code",
      "source": [
        "print(\"Hello, world!\") # Print the traditional hello world\n"
      ],
      "metadata": {
        "colab": {
          "base_uri": "https://localhost:8080/"
        },
        "id": "d1NWBZIkVmOL",
        "outputId": "75b74a5a-65cf-4012-babf-27e6726c5eee"
      },
      "execution_count": null,
      "outputs": [
        {
          "output_type": "stream",
          "name": "stdout",
          "text": [
            "Hello, world!\n"
          ]
        }
      ]
    },
    {
      "cell_type": "markdown",
      "metadata": {
        "id": "g5cYyeQg4YD9"
      },
      "source": [
        "Double-click __here__ for the solution.\n",
        "\n",
        "<!-- Your answer is below:\n",
        "\n",
        "print(\"Hello, world!\") # Print the traditional hello world\n",
        "\n",
        "-->\n"
      ]
    },
    {
      "cell_type": "markdown",
      "metadata": {
        "id": "BN2dqYnl4YD9"
      },
      "source": [
        "<hr>"
      ]
    }
  ],
  "metadata": {
    "kernelspec": {
      "display_name": "Python",
      "language": "python",
      "name": "conda-env-python-py"
    },
    "language_info": {
      "codemirror_mode": {
        "name": "ipython",
        "version": 3
      },
      "file_extension": ".py",
      "mimetype": "text/x-python",
      "name": "python",
      "nbconvert_exporter": "python",
      "pygments_lexer": "ipython3",
      "version": "3.6.7"
    },
    "colab": {
      "provenance": [],
      "include_colab_link": true
    }
  },
  "nbformat": 4,
  "nbformat_minor": 0
}